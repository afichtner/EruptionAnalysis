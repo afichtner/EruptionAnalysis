{
 "cells": [
  {
   "cell_type": "markdown",
   "metadata": {},
   "source": [
    "# 0. Correlation Analysis\n",
    "\n",
    "This notebook performs an $f$-$k$ analysis and filtering, as well as phase velocity dispersion estimation."
   ]
  },
  {
   "cell_type": "markdown",
   "metadata": {},
   "source": [
    "# 0. Packages and setup\n",
    "\n",
    "Import the necessary Python packages and add a few lines to embellish figures."
   ]
  },
  {
   "cell_type": "code",
   "execution_count": null,
   "metadata": {},
   "outputs": [],
   "source": [
    "import obspy\n",
    "import numpy as np\n",
    "from pandas import read_csv\n",
    "from pandas import read_csv\n",
    "import matplotlib.colors as colors\n",
    "import matplotlib.pyplot as plt\n",
    "from scipy.io.wavfile import write\n",
    "from obspy.signal.filter import bandpass\n",
    "\n",
    "plt.rcParams[\"font.family\"] = \"Times\"\n",
    "plt.rcParams.update({'font.size': 70})\n",
    "plt.rcParams['xtick.major.pad']='12'\n",
    "plt.rcParams['ytick.major.pad']='12'"
   ]
  },
  {
   "cell_type": "markdown",
   "metadata": {},
   "source": [
    "# 1. General input\n",
    "\n",
    "Basic input, including the file to be read and the average spacing between channels."
   ]
  },
  {
   "cell_type": "code",
   "execution_count": null,
   "metadata": {},
   "outputs": [],
   "source": [
    "# Input file.\n",
    "input_file='/Users/andreas/Desktop/EruptionAnalysis/eruption.npy'\n",
    "# Scale for plotting.\n",
    "scale=5\n",
    "# Receiver spacing [m].\n",
    "dx=8.0\n",
    "# Sampling rate [Hz].\n",
    "dt=1.0/200.0"
   ]
  },
  {
   "cell_type": "markdown",
   "metadata": {},
   "source": [
    "# 2. Data reading and plotting"
   ]
  },
  {
   "cell_type": "markdown",
   "metadata": {},
   "source": [
    "## 2.1. Read and plot complete data"
   ]
  },
  {
   "cell_type": "code",
   "execution_count": null,
   "metadata": {},
   "outputs": [],
   "source": [
    "cct=np.load(input_file)"
   ]
  },
  {
   "cell_type": "code",
   "execution_count": null,
   "metadata": {},
   "outputs": [],
   "source": [
    "print(cct.shape)\n",
    "\n",
    "nt=cct.shape[1]\n",
    "nx=cct.shape[0]-1\n",
    "\n",
    "t=np.linspace(0.0,nt*dt,nt)"
   ]
  },
  {
   "cell_type": "code",
   "execution_count": null,
   "metadata": {
    "scrolled": false
   },
   "outputs": [],
   "source": [
    "plt.figure(figsize=(30,60))\n",
    "\n",
    "for i,j in enumerate(cct):\n",
    "    \n",
    "    if i % 10 == 0: print(f\"At {i} of {np.shape(cct)[0]}\")\n",
    "    \n",
    "    data = j\n",
    "    data /= np.max(np.abs(data))        \n",
    "    dist_var = (i-1)*dx\n",
    "    \n",
    "    plt.plot(t,(scale*data)+dist_var,'k-', alpha = 0.4)\n",
    "    plt.fill_between(t,(scale*data)+dist_var,y2=np.ones(np.shape(t))*dist_var,where=(data+dist_var>=dist_var), interpolate=True,fc='k',alpha=0.8)\n",
    "\n",
    "plt.xlabel('time [s]')\n",
    "plt.ylabel('distance [m]')\n",
    "plt.grid()\n",
    "plt.savefig('OUTPUT/raw.png',dpi=250)\n",
    "plt.show()"
   ]
  },
  {
   "cell_type": "markdown",
   "metadata": {},
   "source": [
    "## 2.1.1. Select a subset of the data for further analysis"
   ]
  },
  {
   "cell_type": "code",
   "execution_count": null,
   "metadata": {},
   "outputs": [],
   "source": [
    "cct=cct[320:,:30000]\n",
    "#cct=cct[450:,:]\n",
    "print(np.shape(cct))\n",
    "\n",
    "nx=cct.shape[0]-1\n",
    "nt=cct.shape[1]\n",
    "\n",
    "t=np.linspace(0.0,nt*dt,nt)"
   ]
  },
  {
   "cell_type": "code",
   "execution_count": null,
   "metadata": {
    "scrolled": false
   },
   "outputs": [],
   "source": [
    "plt.figure(figsize=(30,60))\n",
    "\n",
    "for i,j in enumerate(cct):\n",
    "    \n",
    "    if i % 10 == 0: print(f\"At {i} of {np.shape(cct)[0]}\")\n",
    "    \n",
    "    data = j\n",
    "    data /= np.max(np.abs(data))        \n",
    "    dist_var = (i-1)*dx\n",
    "    \n",
    "    plt.plot(t,(scale*data)+dist_var,'k-', alpha = 0.4)\n",
    "    plt.fill_between(t,(scale*data)+dist_var,y2=np.ones(np.shape(t))*dist_var,where=(data+dist_var>=dist_var), interpolate=True,fc='k',alpha=0.8)\n",
    "\n",
    "plt.xlabel('time [s]')\n",
    "plt.ylabel('distance [m]')\n",
    "plt.grid()\n",
    "plt.savefig('OUTPUT/raw_cropped.png',dpi=250)\n",
    "plt.show()"
   ]
  },
  {
   "cell_type": "markdown",
   "metadata": {},
   "source": [
    "## 2.2. Perform some preprocessing"
   ]
  },
  {
   "cell_type": "markdown",
   "metadata": {},
   "source": [
    "### 2.2.2. Time-domain filtering, downsampling and tapering"
   ]
  },
  {
   "cell_type": "code",
   "execution_count": null,
   "metadata": {},
   "outputs": [],
   "source": [
    "# Minimum and maximum frequencies [Hz].\n",
    "freqmin=0.01\n",
    "freqmax=10.0\n",
    "# Downsampling factor.\n",
    "downsample=1"
   ]
  },
  {
   "cell_type": "code",
   "execution_count": null,
   "metadata": {},
   "outputs": [],
   "source": [
    "# Frequency-domain filtering.\n",
    "cct_filt=np.zeros(np.shape(cct))\n",
    "for i in range(cct.shape[0]-1): cct_filt[i,:]=bandpass(cct[i,:],freqmin=freqmin,freqmax=freqmax,df=1.0/dt,corners=4,zerophase=True)"
   ]
  },
  {
   "cell_type": "code",
   "execution_count": null,
   "metadata": {},
   "outputs": [],
   "source": [
    "# Downsampling.\n",
    "cct_filt_down=cct_filt[:,0:nt:downsample]\n",
    "\n",
    "nx=cct_filt_down.shape[0]-1\n",
    "nt=cct_filt_down.shape[1]\n",
    "dt=downsample*dt\n",
    "\n",
    "t=np.linspace(0.0,nt*dt,nt)"
   ]
  },
  {
   "cell_type": "code",
   "execution_count": null,
   "metadata": {},
   "outputs": [],
   "source": [
    "cct_filt_down_tap=cct_filt_down.copy()\n",
    "\n",
    "# Taper in space domain.\n",
    "width=3\n",
    "for i in range(width): \n",
    "    cct_filt_down_tap[i,:]=(np.float(i+1)/np.float(width+1))*cct_filt_down[i,:]\n",
    "    cct_filt_down_tap[nx-i,:]=(np.float(i+1)/np.float(width+1))*cct_filt_down[nx-i,:]"
   ]
  },
  {
   "cell_type": "code",
   "execution_count": null,
   "metadata": {
    "scrolled": false
   },
   "outputs": [],
   "source": [
    "plt.figure(figsize=(30,60))\n",
    "scale = 10.0\n",
    "norm = np.max(np.abs(cct_filt_down))\n",
    "\n",
    "for i in range(nx):\n",
    "\n",
    "    data = cct_filt_down_tap[i,:]\n",
    "    dist_var = (i-1)*dx\n",
    "    \n",
    "    plt.plot(t,(scale*data/norm)+dist_var,'k-', alpha = 0.4)\n",
    "    plt.fill_between(t,(scale*data/norm)+dist_var,y2=np.ones(np.shape(t))*dist_var,where=(data/norm+dist_var>=dist_var), interpolate=True,fc='k',alpha=0.8)\n",
    "\n",
    "plt.xlabel('time [s]')\n",
    "plt.ylabel('distance [m]')\n",
    "plt.grid()\n",
    "filename='OUTPUT/f-filtered_'+str(freqmin)+'-'+str(freqmax)+'Hz.png'\n",
    "plt.savefig(filename,dpi=250)\n",
    "plt.show()"
   ]
  },
  {
   "cell_type": "markdown",
   "metadata": {},
   "source": [
    "### 2.2.3. Turn selected traces into audio files"
   ]
  },
  {
   "cell_type": "raw",
   "metadata": {},
   "source": [
    "# Select a trace and normalise.\n",
    "n_trace=23\n",
    "data=cct_filt_down_tap[n_trace,:]/np.max(np.abs(cct_filt_down_tap[n_trace,:]))\n",
    "\n",
    "# Modify amplitudes for better audibility.\n",
    "amplitude = np.iinfo(np.int16).max\n",
    "data=10.0**(np.abs(3.0*data)) * np.sign(data) / 10.0**3.0\n",
    "\n",
    "# Normalise.\n",
    "data=amplitude*data\n",
    "\n",
    "# Plot the trace.\n",
    "plt.figure(figsize=(30,10))\n",
    "plt.plot(t,data,'k')\n",
    "plt.xlabel('t [s]')\n",
    "plt.grid()\n",
    "plt.show()"
   ]
  },
  {
   "cell_type": "raw",
   "metadata": {},
   "source": [
    "# Frequency upscaling.\n",
    "upscale=20\n",
    "\n",
    "# Duration of the audio file [s].\n",
    "duration=(t[nt-1]-t[0])/upscale\n",
    "print('duration: %f s' % duration)\n",
    "\n",
    "# Samples per second.\n",
    "samplerate=int(nt/duration)\n",
    "\n",
    "# Write file.\n",
    "filename='OUTPUT/audio_trace'+str(n_trace)+'_'+str(freqmin)+'-'+str(freqmax)+'Hz.wav'\n",
    "write(filename, samplerate, data.astype(np.int16))"
   ]
  },
  {
   "cell_type": "markdown",
   "metadata": {},
   "source": [
    "# 3. Frequency-wavenumber domain\n",
    "\n",
    "Before any $f$-$k$ filtering, we transform the time-domain data into the frequency-wavenumber domain."
   ]
  },
  {
   "cell_type": "markdown",
   "metadata": {},
   "source": [
    "## 3.1. Compute and plot frequency-wavenumber domain representation\n",
    "\n",
    "We apply a 2D Fast Fourier Transform and the roll the indices in order to bring it into the physical frequency domain."
   ]
  },
  {
   "cell_type": "code",
   "execution_count": null,
   "metadata": {},
   "outputs": [],
   "source": [
    "# 2D Fourier transform.\n",
    "ccf=np.fft.fft2(cct_filt_down_tap)\n",
    "# Roll in order to plot in physical f-k domain.\n",
    "ccfr=np.roll(np.roll(ccf,int((nt-1)/2),axis=1),int((nx-1)/2),axis=0)\n",
    "# Make frequency and wavenumber axes.\n",
    "f=np.linspace(-0.5/dt,0.5/dt,nt)\n",
    "k=np.linspace(-np.pi/dx,np.pi/dx,nx+1)\n",
    "ff,kk=np.meshgrid(f,k)"
   ]
  },
  {
   "cell_type": "raw",
   "metadata": {},
   "source": [
    "# Plot discrete 2D Fourier transform\n",
    "plt.subplots(1, figsize=(25,25))\n",
    "plt.pcolor(np.abs(ccf),cmap='Greys')\n",
    "plt.xlabel('frequency index')\n",
    "plt.ylabel('space index')\n",
    "plt.title('2D Fourier transform',pad=25)\n",
    "plt.grid()\n",
    "plt.show()"
   ]
  },
  {
   "cell_type": "markdown",
   "metadata": {},
   "source": [
    "Make a smoothed version of the power spectrum for plotting."
   ]
  },
  {
   "cell_type": "raw",
   "metadata": {},
   "source": [
    "# Compute raw power spectrum.\n",
    "power=np.abs(ccfr)\n",
    "\n",
    "# Smoothing for nicer plot.\n",
    "for s in range(2):\n",
    "    power[1:nx-1,1:nt-1]=(2.0*power[1:nx-1,1:nt-1]+power[0:nx-2,1:nt-1]+power[2:nx,1:nt-1]+power[1:nx-1,0:nt-2]+power[1:nx-1,2:nt])/6.0"
   ]
  },
  {
   "cell_type": "raw",
   "metadata": {
    "scrolled": false
   },
   "source": [
    "# Plot f-k domain amplitude spectrum.\n",
    "plt.subplots(1, figsize=(20,20))\n",
    "plt.pcolor(ff,kk,power,norm=colors.LogNorm(vmin=0.02*power.max(),vmax=0.6*power.max()),cmap='Greys')\n",
    "plt.xlim(0.0,15.0)\n",
    "plt.ylim(-0.25,0.25)\n",
    "plt.xlabel('f [Hz]')\n",
    "plt.ylabel('k [1/m]')\n",
    "plt.title('f-k power spectrum',pad=25)\n",
    "plt.colorbar()\n",
    "plt.grid()\n",
    "plt.tight_layout()\n",
    "filename='OUTPUT/fk-spectrum.png'\n",
    "plt.savefig(filename,dpi=250)\n",
    "plt.show()"
   ]
  },
  {
   "cell_type": "markdown",
   "metadata": {},
   "source": [
    "# 4. $f$-$k$ filtering\n",
    "\n",
    "For $f$-$k$ filtering we define a mask that cuts out part of the $f$-$k$ spectrum."
   ]
  },
  {
   "cell_type": "markdown",
   "metadata": {},
   "source": [
    "## 4.1. Input\n",
    "\n",
    "Set parameters that define the frequency-wavenumber mask."
   ]
  },
  {
   "cell_type": "code",
   "execution_count": null,
   "metadata": {},
   "outputs": [],
   "source": [
    "# Minimum and maximum absolute phase velocities [m/s].\n",
    "c_min=250.0\n",
    "c_max=1000.0"
   ]
  },
  {
   "cell_type": "markdown",
   "metadata": {},
   "source": [
    "## 4.2. $f$-$k$ mask\n",
    "\n",
    "Build the $f$-$k$ mask for both the forward- and backward-propagating (reflected) part of the correlation wavefield."
   ]
  },
  {
   "cell_type": "code",
   "execution_count": null,
   "metadata": {},
   "outputs": [],
   "source": [
    "# Mask for forward-propagating wavefield.\n",
    "mask_fwd=np.ones(np.shape(ccfr),dtype='complex64')\n",
    "# Mask for backward-propagating (reflected) wavefield.\n",
    "mask_rev=np.ones(np.shape(ccfr),dtype='complex64')\n",
    "\n",
    "# Apply the mask.\n",
    "for i in range(nx):\n",
    "    for j in range(nt):\n",
    "        \n",
    "        # Compute phase velocity.\n",
    "        if np.abs(k[i]):\n",
    "            c=2.0*np.pi*f[j]/k[i]\n",
    "        else:\n",
    "            c=1.0e9\n",
    "            \n",
    "        # Maximum and minimum absolute phase velocities.\n",
    "        if (np.abs(c)>c_max) or (np.abs(c)<c_min):\n",
    "            mask_fwd[i,j]=0.0\n",
    "            mask_rev[i,j]=0.0\n",
    "        # Forward or backward propagation.\n",
    "        if c>0.0: mask_fwd[i,j]=0.0\n",
    "        if c<0.0: mask_rev[i,j]=0.0\n",
    "        # Bandpass filter (more generous because already filtered before).\n",
    "        if np.abs(f[j])>1.2*freqmax: \n",
    "            mask_fwd[i,j]=0.0\n",
    "            mask_rev[i,j]=0.0\n",
    "        if np.abs(f[j])<0.8*freqmin: \n",
    "            mask_fwd[i,j]=0.0\n",
    "            mask_rev[i,j]=0.0\n",
    "            \n",
    "            \n",
    "# Smooth the mask.\n",
    "dummy_fwd=mask_fwd.copy()\n",
    "mask_fwd_smooth=mask_fwd.copy()\n",
    "dummy_rev=mask_rev.copy()\n",
    "mask_rev_smooth=mask_rev.copy()\n",
    "\n",
    "for l in range(10):\n",
    "    for i in np.arange(1,nx-1):\n",
    "        mask_rev_smooth[i,:]=(dummy_rev[i,:]+dummy_rev[i-1,:]+dummy_rev[i+1,:])/3.0\n",
    "        mask_fwd_smooth[i,:]=(dummy_fwd[i,:]+dummy_fwd[i-1,:]+dummy_fwd[i+1,:])/3.0\n",
    "    dummy_rev=mask_rev_smooth\n",
    "    dummy_fwd=mask_fwd_smooth\n",
    "\n",
    "for l in range(10):\n",
    "    for j in np.arange(1,nt-1):\n",
    "        mask_rev_smooth[:,j]=(dummy_rev[:,j]+dummy_rev[:,j-1]+dummy_rev[:,j+1])/3.0\n",
    "        mask_fwd_smooth[:,j]=(dummy_fwd[:,j]+dummy_fwd[:,j-1]+dummy_fwd[:,j+1])/3.0\n",
    "    dummy_rev=mask_rev_smooth\n",
    "    dummy_fwd=mask_fwd_smooth"
   ]
  },
  {
   "cell_type": "raw",
   "metadata": {
    "scrolled": false
   },
   "source": [
    "# Plot f-k domain masks.\n",
    "\n",
    "plt.subplots(1, figsize=(25,25))\n",
    "plt.pcolor(ff,kk,np.abs(mask_fwd_smooth),cmap='Greys')\n",
    "plt.xlim(-1.1*freqmax,1.1*freqmax)\n",
    "plt.ylim(-2.2*np.pi*freqmax/c_min,2.2*np.pi*freqmax/c_min)\n",
    "plt.xlabel('f [Hz]')\n",
    "plt.ylabel('k [1/m]')\n",
    "plt.title('f-k mask (forward)',pad=25)\n",
    "plt.colorbar()\n",
    "plt.show()\n",
    "\n",
    "plt.subplots(1, figsize=(25,25))\n",
    "plt.pcolor(ff,kk,np.abs(mask_rev_smooth),cmap='Greys')\n",
    "plt.xlim(-1.1*freqmax,1.1*freqmax)\n",
    "plt.ylim(-2.2*np.pi*freqmax/c_min,2.2*np.pi*freqmax/c_min)\n",
    "plt.xlabel('f [Hz]')\n",
    "plt.ylabel('k [1/m]')\n",
    "plt.title('f-k mask (reverse)',pad=25)\n",
    "plt.colorbar()\n",
    "plt.show()"
   ]
  },
  {
   "cell_type": "code",
   "execution_count": null,
   "metadata": {},
   "outputs": [],
   "source": [
    "# Apply the f-k domain filter.\n",
    "ccfr_fwd_filtered=ccfr*mask_fwd_smooth\n",
    "ccfr_rev_filtered=ccfr*mask_rev_smooth"
   ]
  },
  {
   "cell_type": "markdown",
   "metadata": {},
   "source": [
    "## 4.3. Return to the time domain\n",
    "\n",
    "After application of the mask (filter) we roll the arrays back and then apply the 2D inverse transform."
   ]
  },
  {
   "cell_type": "code",
   "execution_count": null,
   "metadata": {
    "scrolled": false
   },
   "outputs": [],
   "source": [
    "# Roll back.\n",
    "ccf_fwd_filtered=np.roll(np.roll(ccfr_fwd_filtered,-int((nt-1)/2),axis=1),-int((nx-1)/2),axis=0)\n",
    "ccf_rev_filtered=np.roll(np.roll(ccfr_rev_filtered,-int((nt-1)/2),axis=1),-int((nx-1)/2),axis=0)\n",
    "\n",
    "# Inverse 2D Fourier transform.\n",
    "cct_fwd_filtered=np.real(np.fft.ifft2(ccf_fwd_filtered))\n",
    "cct_rev_filtered=np.real(np.fft.ifft2(ccf_rev_filtered))"
   ]
  },
  {
   "cell_type": "code",
   "execution_count": null,
   "metadata": {},
   "outputs": [],
   "source": [
    "# Plotting options.\n",
    "# Wavefield propagating away from the interrogator towards the eruption site.\n",
    "plot_forward=False\n",
    "# Wavefield propagating from the eruption site towards the interrogator.\n",
    "plot_reverse=True\n",
    "\n",
    "# Plot filtered version.\n",
    "plt.figure(figsize=(30,60))\n",
    "\n",
    "scale=30\n",
    "norm=np.max(np.abs(cct_filt_down)) \n",
    "\n",
    "for i in range(nx):\n",
    "    \n",
    "    dist_var=(i-1)*dx \n",
    "    \n",
    "    if plot_forward:\n",
    "        data_fwd=cct_fwd_filtered[i,:]\n",
    "        plt.plot(t,(scale*data_fwd/norm)+dist_var,'k-', alpha = 0.4) \n",
    "        plt.fill_between(t,(scale*data_fwd/norm)+dist_var,y2=np.ones(np.shape(t))*dist_var,where=(data_fwd/norm+dist_var>=dist_var), interpolate=True,fc='r',alpha=0.8)\n",
    "        \n",
    "    if plot_reverse:\n",
    "        data_rev=cct_rev_filtered[i,:]\n",
    "        plt.plot(t,(scale*data_rev/norm)+dist_var,'k-', alpha = 0.4) \n",
    "        plt.fill_between(t,(scale*data_rev/norm)+dist_var,y2=np.ones(np.shape(t))*dist_var,where=(data_rev/norm+dist_var>=dist_var), interpolate=True,fc='b',alpha=0.8)\n",
    "\n",
    "plt.xlabel(\"time [s]\")\n",
    "plt.ylabel(\"distance [m]\")\n",
    "plt.grid()\n",
    "#plt.xlim([0.0,200.0])\n",
    "#plt.ylim([0.0,580.0])\n",
    "filename='OUTPUT/fk-filtered_'+str(freqmin)+'-'+str(freqmax)+'Hz-'+str(c_min)+'-'+str(c_max)+'mps.png'\n",
    "plt.savefig(filename,dpi=250)\n",
    "plt.show()"
   ]
  }
 ],
 "metadata": {
  "kernelspec": {
   "display_name": "Python 3",
   "language": "python",
   "name": "python3"
  },
  "language_info": {
   "codemirror_mode": {
    "name": "ipython",
    "version": 3
   },
   "file_extension": ".py",
   "mimetype": "text/x-python",
   "name": "python",
   "nbconvert_exporter": "python",
   "pygments_lexer": "ipython3",
   "version": "3.6.10"
  }
 },
 "nbformat": 4,
 "nbformat_minor": 5
}
